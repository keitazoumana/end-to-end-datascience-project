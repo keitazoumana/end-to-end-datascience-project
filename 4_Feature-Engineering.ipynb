{
 "cells": [
  {
   "cell_type": "markdown",
   "metadata": {},
   "source": [
    "## Feature Engineering    \n",
    "This is one of the most crucial aspect for a Data Science project.  \n",
    "It is a process of transforming the raw data to better representative \n",
    "features in order to create better predictive models."
   ]
  },
  {
   "cell_type": "code",
   "execution_count": 13,
   "metadata": {},
   "outputs": [],
   "source": [
    "import pandas as pd\n",
    "import numpy as np\n",
    "import seaborn as sns"
   ]
  },
  {
   "cell_type": "code",
   "execution_count": 2,
   "metadata": {},
   "outputs": [],
   "source": [
    "# Load our data  \n",
    "df_no_outliers = pd.read_csv('data/without_missing_outliers.csv')"
   ]
  },
  {
   "cell_type": "markdown",
   "metadata": {},
   "source": [
    "#### A- Derived Features   \n",
    "Sometimes, it is important to perform some transformations on the features/columns in order to reduce the number of original data columns. \n",
    "Let's start looking at our columns.   "
   ]
  },
  {
   "cell_type": "markdown",
   "metadata": {},
   "source": [
    "##### A.1- Education and Education-Num  "
   ]
  },
  {
   "cell_type": "code",
   "execution_count": 3,
   "metadata": {},
   "outputs": [
    {
     "name": "stdout",
     "output_type": "stream",
     "text": [
      "Education: \n",
      "Total category:16\n",
      "Values: ['Bachelors', 'HS-grad', '11th', 'Masters', '9th', 'Some-college', 'Assoc-acdm', 'Assoc-voc', '7th-8th', 'Doctorate', 'Prof-school', '5th-6th', '10th', '1st-4th', 'Preschool', '12th']\n",
      "\n",
      "Education Num: \n",
      "Total Education-Num:16\n",
      "Values: [13, 9, 7, 14, 5, 10, 12, 11, 4, 16, 15, 3, 6, 2, 1, 8]\n"
     ]
    }
   ],
   "source": [
    "edu = df_no_outliers.Education.unique()\n",
    "eduNum = df_no_outliers['Education-Num'].unique()\n",
    "print('Education: \\nTotal category:{}\\nValues: {}\\n'.format(len(edu),list(edu)))\n",
    "print('Education Num: \\nTotal Education-Num:{}\\nValues: {}'.format(len(eduNum),\n",
    "                                                                  list(eduNum)))"
   ]
  },
  {
   "cell_type": "markdown",
   "metadata": {},
   "source": [
    "We can see that The **Education-Num** seems to be the numerical representation of **Education**, and both have the same Total number (16). If it is the case,we will need only one of them, not both columns.  \n",
    "Let's check some observations (rows) to verify our hypothesis if there is a corrrespondance between **Education-Num** and **Education**.   \n",
    "Then we can simply visualize the two columns in order to check the correspondance between them.  "
   ]
  },
  {
   "cell_type": "code",
   "execution_count": 6,
   "metadata": {},
   "outputs": [
    {
     "data": {
      "image/png": "[encoded data removed]",
      "text/plain": [
       "<Figure size 360x360 with 1 Axes>"
      ]
     },
     "metadata": {
      "needs_background": "light"
     },
     "output_type": "display_data"
    }
   ],
   "source": [
    "ax = sns.catplot(x='Education', y='Education-Num', kind='bar', data=df_no_outliers)\n",
    "ax.fig.suptitle('Numerical Representation of Educations')\n",
    "ax.fig.autofmt_xdate()"
   ]
  },
  {
   "cell_type": "markdown",
   "metadata": {},
   "source": [
    "From the previous plot, we can see that \n",
    "* Bachelor <==> 13  \n",
    "* HS-grad <==> 9\n",
    "* 7th-8th <==> 4   \n",
    "* 9th <==> 5    \n",
    "* Preschool <==> 1 \n",
    "* etc.  \n",
    "Based on those information, we can say that our previous hypothesis is verified, so, we will need only one column to represent the **level of education**, and in our case.    \n",
    "We will choose **Education-Num** (remove **Education** column) which corresponds to the numerical representation since there is an order in terms of level of education, and the numerical representation already satisfies this condition.  "
   ]
  },
  {
   "cell_type": "code",
   "execution_count": 7,
   "metadata": {},
   "outputs": [],
   "source": [
    "# Finally remove the Education column  \n",
    "df_no_outliers.drop('Education', axis=1, inplace=True)"
   ]
  },
  {
   "cell_type": "markdown",
   "metadata": {},
   "source": [
    "##### A.2- Capital-Loss and Capital-Gain  \n",
    "From those two features, we can create a new column called **Capital-State** that will be the difference between Capital-Gain and Capital-Loss. Let's call it **Capital-State**.  \n",
    "Then we will keep the derived feature, then remove **Capital Gain** and **Capital Loss**.  "
   ]
  },
  {
   "cell_type": "code",
   "execution_count": 8,
   "metadata": {},
   "outputs": [],
   "source": [
    "df_no_outliers['Capital-State'] = df_no_outliers['Capital-Gain'] - df_no_outliers['Capital-Loss']"
   ]
  },
  {
   "cell_type": "code",
   "execution_count": 9,
   "metadata": {},
   "outputs": [],
   "source": [
    "# Then remove Capital-Gain and Capital-Loss. \n",
    "df_no_outliers.drop(['Capital-Gain', 'Capital-Loss'], axis=1, inplace=True)"
   ]
  },
  {
   "cell_type": "code",
   "execution_count": 11,
   "metadata": {},
   "outputs": [
    {
     "data": {
      "text/plain": [
       "Index(['Age', 'Workclass', 'fnlwgt', 'Education-Num', 'Martial Status',\n",
       "       'Occupation', 'Relationship', 'Race', 'Sex', 'Hours-per-week',\n",
       "       'Country', 'Income', 'Capital-State'],\n",
       "      dtype='object')"
      ]
     },
     "execution_count": 11,
     "metadata": {},
     "output_type": "execute_result"
    }
   ],
   "source": [
    "df_no_outliers.columns"
   ]
  },
  {
   "cell_type": "markdown",
   "metadata": {},
   "source": [
    "##### A.3- Age State (Adult or Child)   \n",
    "A person older than 18 is an adult, otherwise he/she is a child.  "
   ]
  },
  {
   "cell_type": "code",
   "execution_count": 14,
   "metadata": {},
   "outputs": [],
   "source": [
    "# AgeState based on Age\n",
    "df_no_outliers['AgeState'] = np.where(df_no_outliers['Age'] >= 18, 'Adult', 'Child')"
   ]
  },
  {
   "cell_type": "code",
   "execution_count": 19,
   "metadata": {},
   "outputs": [],
   "source": [
    "# Drop Age column  \n",
    "df_no_outliers.drop('Age', axis=1, inplace=True)"
   ]
  },
  {
   "cell_type": "code",
   "execution_count": 20,
   "metadata": {},
   "outputs": [
    {
     "data": {
      "text/plain": [
       "Adult    48000\n",
       "Child      595\n",
       "Name: AgeState, dtype: int64"
      ]
     },
     "execution_count": 20,
     "metadata": {},
     "output_type": "execute_result"
    }
   ],
   "source": [
    "# AgeState Counts  \n",
    "df_no_outliers['AgeState'].value_counts()"
   ]
  },
  {
   "cell_type": "code",
   "execution_count": 21,
   "metadata": {},
   "outputs": [
    {
     "data": {
      "text/plain": [
       "<matplotlib.axes._subplots.AxesSubplot at 0x1d0a0e85248>"
      ]
     },
     "execution_count": 21,
     "metadata": {},
     "output_type": "execute_result"
    },
    {
     "data": {
      "image/png": "[encoded data removed]",
      "text/plain": [
       "<Figure size 432x288 with 1 Axes>"
      ]
     },
     "metadata": {
      "needs_background": "light"
     },
     "output_type": "display_data"
    }
   ],
   "source": [
    "sns.countplot(x='AgeState', data=df_no_outliers)"
   ]
  },
  {
   "cell_type": "markdown",
   "metadata": {},
   "source": [
    "**fnlwgt** column is not an important feature, so let's drop it. "
   ]
  },
  {
   "cell_type": "code",
   "execution_count": null,
   "metadata": {},
   "outputs": [],
   "source": [
    "df_no_outliers.drop('fnlwgt', axis=1, inplace=True)"
   ]
  },
  {
   "cell_type": "markdown",
   "metadata": {},
   "source": [
    "We have added new features, and remove some. Let's have a look at our new dataframe.  "
   ]
  },
  {
   "cell_type": "code",
   "execution_count": 23,
   "metadata": {},
   "outputs": [
    {
     "name": "stdout",
     "output_type": "stream",
     "text": [
      "<class 'pandas.core.frame.DataFrame'>\n",
      "RangeIndex: 48595 entries, 0 to 48594\n",
      "Data columns (total 12 columns):\n",
      "Workclass         48595 non-null object\n",
      "Education-Num     48595 non-null int64\n",
      "Martial Status    48595 non-null object\n",
      "Occupation        48595 non-null object\n",
      "Relationship      48595 non-null object\n",
      "Race              48595 non-null object\n",
      "Sex               48595 non-null object\n",
      "Hours-per-week    48595 non-null int64\n",
      "Country           48595 non-null object\n",
      "Income            48595 non-null object\n",
      "Capital-State     48595 non-null int64\n",
      "AgeState          48595 non-null object\n",
      "dtypes: int64(3), object(9)\n",
      "memory usage: 4.4+ MB\n"
     ]
    }
   ],
   "source": [
    "df_no_outliers.info()"
   ]
  },
  {
   "cell_type": "markdown",
   "metadata": {},
   "source": [
    "#### B- Categorical Feature encoding    \n",
    "A machine learning model only works with numerical features. To do so, we need to encode all our categorical features. Those features are represented by **object**  with the help of the previous **info** command.    \n",
    "We are going to perform the **One Hot Ending** method on all those categorical features by using Pandas **get_dummies()** function.  \n",
    "We are not going to take in consideration **Income** column, because it is the one we are trying to predict.  "
   ]
  },
  {
   "cell_type": "code",
   "execution_count": 24,
   "metadata": {},
   "outputs": [],
   "source": [
    "# Columns: Workclass, Martial Status Occupation, Relationship, Race, Sex, Country, AgeState\n",
    "df_no_outliers = pd.get_dummies(df_no_outliers, columns=['Workclass', 'Martial Status', 'Occupation', \n",
    "                                 'Relationship', 'Race', 'Sex', 'Country', 'AgeState'])"
   ]
  },
  {
   "cell_type": "markdown",
   "metadata": {},
   "source": [
    "Now we can separately encode our **Income** feature, such that:  \n",
    "* **1**: for the people who make more than 50K  \n",
    "* **0**: for those who do not.   \n",
    "But before that, let have a look at the values in **Income** column.  "
   ]
  },
  {
   "cell_type": "code",
   "execution_count": 25,
   "metadata": {},
   "outputs": [
    {
     "data": {
      "text/plain": [
       "array(['<=50K', '>50K'], dtype=object)"
      ]
     },
     "execution_count": 25,
     "metadata": {},
     "output_type": "execute_result"
    }
   ],
   "source": [
    "df_no_outliers['Income'].unique()"
   ]
  },
  {
   "cell_type": "code",
   "execution_count": 26,
   "metadata": {},
   "outputs": [],
   "source": [
    "# Let's encode it.  \n",
    "df_no_outliers['Income'] = np.where(df_no_outliers['Income'] =='>50K', 1, 0)"
   ]
  },
  {
   "cell_type": "code",
   "execution_count": 27,
   "metadata": {},
   "outputs": [
    {
     "data": {
      "text/plain": [
       "array([0, 1], dtype=int64)"
      ]
     },
     "execution_count": 27,
     "metadata": {},
     "output_type": "execute_result"
    }
   ],
   "source": [
    "# Check it now after encoding. \n",
    "df_no_outliers['Income'].unique()"
   ]
  },
  {
   "cell_type": "markdown",
   "metadata": {},
   "source": [
    "We have finally encoded all our features into numerical values. Now we are going to reorder the columns in order to have **Income** as last feature.  "
   ]
  },
  {
   "cell_type": "code",
   "execution_count": 28,
   "metadata": {},
   "outputs": [],
   "source": [
    "reordered_columns = [column for column in df_no_outliers.columns if column != 'Income']\n",
    "reordered_columns = reordered_columns + ['Income'] \n",
    "df = df_no_outliers[reordered_columns]"
   ]
  },
  {
   "cell_type": "code",
   "execution_count": 29,
   "metadata": {},
   "outputs": [
    {
     "name": "stdout",
     "output_type": "stream",
     "text": [
      "<class 'pandas.core.frame.DataFrame'>\n",
      "RangeIndex: 48595 entries, 0 to 48594\n",
      "Data columns (total 89 columns):\n",
      "Education-Num                           48595 non-null int64\n",
      "Hours-per-week                          48595 non-null int64\n",
      "Capital-State                           48595 non-null int64\n",
      "Workclass_Federal-gov                   48595 non-null uint8\n",
      "Workclass_Local-gov                     48595 non-null uint8\n",
      "Workclass_Never-worked                  48595 non-null uint8\n",
      "Workclass_Private                       48595 non-null uint8\n",
      "Workclass_Self-emp-inc                  48595 non-null uint8\n",
      "Workclass_Self-emp-not-inc              48595 non-null uint8\n",
      "Workclass_State-gov                     48595 non-null uint8\n",
      "Workclass_Without-pay                   48595 non-null uint8\n",
      "Martial Status_Divorced                 48595 non-null uint8\n",
      "Martial Status_Married-AF-spouse        48595 non-null uint8\n",
      "Martial Status_Married-civ-spouse       48595 non-null uint8\n",
      "Martial Status_Married-spouse-absent    48595 non-null uint8\n",
      "Martial Status_Never-married            48595 non-null uint8\n",
      "Martial Status_Separated                48595 non-null uint8\n",
      "Martial Status_Widowed                  48595 non-null uint8\n",
      "Occupation_Adm-clerical                 48595 non-null uint8\n",
      "Occupation_Armed-Forces                 48595 non-null uint8\n",
      "Occupation_Craft-repair                 48595 non-null uint8\n",
      "Occupation_Exec-managerial              48595 non-null uint8\n",
      "Occupation_Farming-fishing              48595 non-null uint8\n",
      "Occupation_Handlers-cleaners            48595 non-null uint8\n",
      "Occupation_Machine-op-inspct            48595 non-null uint8\n",
      "Occupation_Other-service                48595 non-null uint8\n",
      "Occupation_Priv-house-serv              48595 non-null uint8\n",
      "Occupation_Prof-specialty               48595 non-null uint8\n",
      "Occupation_Protective-serv              48595 non-null uint8\n",
      "Occupation_Sales                        48595 non-null uint8\n",
      "Occupation_Tech-support                 48595 non-null uint8\n",
      "Occupation_Transport-moving             48595 non-null uint8\n",
      "Relationship_Husband                    48595 non-null uint8\n",
      "Relationship_Not-in-family              48595 non-null uint8\n",
      "Relationship_Other-relative             48595 non-null uint8\n",
      "Relationship_Own-child                  48595 non-null uint8\n",
      "Relationship_Unmarried                  48595 non-null uint8\n",
      "Relationship_Wife                       48595 non-null uint8\n",
      "Race_Amer-Indian-Eskimo                 48595 non-null uint8\n",
      "Race_Asian-Pac-Islander                 48595 non-null uint8\n",
      "Race_Black                              48595 non-null uint8\n",
      "Race_Other                              48595 non-null uint8\n",
      "Race_White                              48595 non-null uint8\n",
      "Sex_Female                              48595 non-null uint8\n",
      "Sex_Male                                48595 non-null uint8\n",
      "Country_Cambodia                        48595 non-null uint8\n",
      "Country_Canada                          48595 non-null uint8\n",
      "Country_China                           48595 non-null uint8\n",
      "Country_Columbia                        48595 non-null uint8\n",
      "Country_Cuba                            48595 non-null uint8\n",
      "Country_Dominican-Republic              48595 non-null uint8\n",
      "Country_Ecuador                         48595 non-null uint8\n",
      "Country_El-Salvador                     48595 non-null uint8\n",
      "Country_England                         48595 non-null uint8\n",
      "Country_France                          48595 non-null uint8\n",
      "Country_Germany                         48595 non-null uint8\n",
      "Country_Greece                          48595 non-null uint8\n",
      "Country_Guatemala                       48595 non-null uint8\n",
      "Country_Haiti                           48595 non-null uint8\n",
      "Country_Holand-Netherlands              48595 non-null uint8\n",
      "Country_Honduras                        48595 non-null uint8\n",
      "Country_Hong                            48595 non-null uint8\n",
      "Country_Hungary                         48595 non-null uint8\n",
      "Country_India                           48595 non-null uint8\n",
      "Country_Iran                            48595 non-null uint8\n",
      "Country_Ireland                         48595 non-null uint8\n",
      "Country_Italy                           48595 non-null uint8\n",
      "Country_Jamaica                         48595 non-null uint8\n",
      "Country_Japan                           48595 non-null uint8\n",
      "Country_Laos                            48595 non-null uint8\n",
      "Country_Mexico                          48595 non-null uint8\n",
      "Country_Nicaragua                       48595 non-null uint8\n",
      "Country_Outlying-US(Guam-USVI-etc)      48595 non-null uint8\n",
      "Country_Peru                            48595 non-null uint8\n",
      "Country_Philippines                     48595 non-null uint8\n",
      "Country_Poland                          48595 non-null uint8\n",
      "Country_Portugal                        48595 non-null uint8\n",
      "Country_Puerto-Rico                     48595 non-null uint8\n",
      "Country_Scotland                        48595 non-null uint8\n",
      "Country_South                           48595 non-null uint8\n",
      "Country_Taiwan                          48595 non-null uint8\n",
      "Country_Thailand                        48595 non-null uint8\n",
      "Country_Trinadad&Tobago                 48595 non-null uint8\n",
      "Country_United-States                   48595 non-null uint8\n",
      "Country_Vietnam                         48595 non-null uint8\n",
      "Country_Yugoslavia                      48595 non-null uint8\n",
      "AgeState_Adult                          48595 non-null uint8\n",
      "AgeState_Child                          48595 non-null uint8\n",
      "Income                                  48595 non-null int32\n",
      "dtypes: int32(1), int64(3), uint8(85)\n",
      "memory usage: 5.2 MB\n"
     ]
    }
   ],
   "source": [
    "df.info()"
   ]
  },
  {
   "cell_type": "markdown",
   "metadata": {},
   "source": [
    "**Conclusion**: all the features have been encoded, we are now ready for creating our machine learning models. Let's save this new dataset for the next step.  "
   ]
  },
  {
   "cell_type": "code",
   "execution_count": 30,
   "metadata": {},
   "outputs": [
    {
     "name": "stdout",
     "output_type": "stream",
     "text": [
      "Saving the dataframe after feature engineering...\n"
     ]
    }
   ],
   "source": [
    "print(\"Saving the dataframe after feature engineering...\")\n",
    "df.to_csv('data/feat_engineered_data.csv', index=False)"
   ]
  },
  {
   "cell_type": "markdown",
   "metadata": {},
   "source": [
    "**Go to the next step with 3_Exploratory-Data-Analysis.ipynb**"
   ]
  }
 ],
 "metadata": {
  "kernelspec": {
   "display_name": "Python 3",
   "language": "python",
   "name": "python3"
  },
  "language_info": {
   "codemirror_mode": {
    "name": "ipython",
    "version": 3
   },
   "file_extension": ".py",
   "mimetype": "text/x-python",
   "name": "python",
   "nbconvert_exporter": "python",
   "pygments_lexer": "ipython3",
   "version": "3.7.4"
  }
 },
 "nbformat": 4,
 "nbformat_minor": 2
}
