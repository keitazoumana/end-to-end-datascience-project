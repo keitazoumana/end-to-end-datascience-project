{
 "cells": [
  {
   "cell_type": "markdown",
   "metadata": {},
   "source": [
    "# End-to-end Data Science project applied to Adult Income  data   \n",
    "\n",
    "## 0. Introduction / Business Understanding\n",
    "\n",
    "This notebook has been created to help you go through the steps of a Machine Learning project Life-Cicle, from Business Understanding to presenting the final result to the Business. \n",
    "After completing this notebook, you will be able to understand \n",
    "all the previous steps, and also deploy your final model in pro \n",
    "duction using **Flask API**.  \n",
    "  \n",
    "Our data contains an individual's annual income results based on various factors (Education level, Occupation,Gender, Age, etc.). \n",
    "Given a new individual, our goal is to predict if that person makes more or less than 50K.  \n",
    "\n",
    "To successfully complete this project, you must follow the notebooks in the same order as it is here: From **Data aquisition (1)** to **Model deployment in production (6)**. \n",
    "\n",
    "## 1. Data aquisition  \n",
    "          Automatique Data aquisition  \n",
    "          Convert data into a Pandas Data Frame\n",
    "          \n",
    "## 2- Data Munging  \n",
    "          Treating missing values\n",
    "          Working with outliers\n",
    "          \n",
    "## 3- Exploratory Data Analysis \n",
    "          Univariate Analysis      \n",
    "          Bivariate analysis           \n",
    "          \n",
    "## 4- Feature Engineering \n",
    "          Derived Features\n",
    "          Categorical Feature encoding\n",
    "          \n",
    "## 5- Preparation, Models and Evaluation    \n",
    "          Preparation\n",
    "          Models and Evaluation  \n",
    "          \n",
    "## 6- Model deployment in production  \n",
    "          Generate .pkl files \n",
    "          Deploy the final model in production with Flask API"
   ]
  },
  {
   "cell_type": "code",
   "execution_count": null,
   "metadata": {},
   "outputs": [],
   "source": []
  }
 ],
 "metadata": {
  "kernelspec": {
   "display_name": "Python 3",
   "language": "python",
   "name": "python3"
  },
  "language_info": {
   "codemirror_mode": {
    "name": "ipython",
    "version": 3
   },
   "file_extension": ".py",
   "mimetype": "text/x-python",
   "name": "python",
   "nbconvert_exporter": "python",
   "pygments_lexer": "ipython3",
   "version": "3.6.5"
  }
 },
 "nbformat": 4,
 "nbformat_minor": 2
}
